{
  "nbformat": 4,
  "nbformat_minor": 0,
  "metadata": {
    "colab": {
      "provenance": [],
      "gpuType": "T4",
      "authorship_tag": "ABX9TyOsDOybWj7HTyl8wtRPtaQi",
      "include_colab_link": true
    },
    "kernelspec": {
      "name": "python3",
      "display_name": "Python 3"
    },
    "language_info": {
      "name": "python"
    },
    "accelerator": "GPU"
  },
  "cells": [
    {
      "cell_type": "markdown",
      "metadata": {
        "id": "view-in-github",
        "colab_type": "text"
      },
      "source": [
        "<a href=\"https://colab.research.google.com/github/j0tad3v/livroMagico/blob/main/Livro_M%C3%A1gico_de_Hist%C3%B3rias.ipynb\" target=\"_parent\"><img src=\"https://colab.research.google.com/assets/colab-badge.svg\" alt=\"Open In Colab\"/></a>"
      ]
    },
    {
      "cell_type": "markdown",
      "source": [
        "Instalando SDK"
      ],
      "metadata": {
        "id": "EFL0ty6LtDbQ"
      }
    },
    {
      "cell_type": "code",
      "execution_count": 4,
      "metadata": {
        "id": "cW38e6csfLsd"
      },
      "outputs": [],
      "source": [
        "\n",
        "!pip install -q -U google-generativeai\n"
      ]
    },
    {
      "cell_type": "markdown",
      "source": [
        "Importando e instalando Bibliotecas"
      ],
      "metadata": {
        "id": "akASVP4YtQPE"
      }
    },
    {
      "cell_type": "code",
      "source": [
        "import pathlib\n",
        "import textwrap\n",
        "\n",
        "import google.generativeai as genai\n",
        "\n",
        "from IPython.display import display\n",
        "from IPython.display import Markdown\n",
        "\n",
        "\n",
        "def to_markdown(text):\n",
        "  text = text.replace('•', '  *')\n",
        "  return Markdown(textwrap.indent(text, '> ', predicate=lambda _: True))"
      ],
      "metadata": {
        "id": "b6wfrhEeldFb"
      },
      "execution_count": 5,
      "outputs": []
    },
    {
      "cell_type": "code",
      "source": [
        "\n",
        "from google.colab import userdata"
      ],
      "metadata": {
        "id": "O5gDdwwUmR0y"
      },
      "execution_count": 6,
      "outputs": []
    },
    {
      "cell_type": "markdown",
      "source": [
        "configurando API"
      ],
      "metadata": {
        "id": "SAs-urQptfp7"
      }
    },
    {
      "cell_type": "code",
      "execution_count": 7,
      "metadata": {
        "id": "2bcfnGEviwTI"
      },
      "outputs": [],
      "source": [
        "model = genai.GenerativeModel('gemini-pro')"
      ]
    },
    {
      "cell_type": "code",
      "source": [
        "\n",
        "GOOGLE_API_KEY=\"digite sua API key\"\n",
        "genai.configure(api_key=GOOGLE_API_KEY)"
      ],
      "metadata": {
        "id": "KxcrMlepnxtL"
      },
      "execution_count": 8,
      "outputs": []
    },
    {
      "cell_type": "code",
      "source": [
        "for m in genai.list_models():\n",
        "  if 'generateContent' in m.supported_generation_methods:\n",
        "    print(m.name)"
      ],
      "metadata": {
        "colab": {
          "base_uri": "https://localhost:8080/",
          "height": 145
        },
        "id": "NE9hWgu2o30w",
        "outputId": "00f75176-a695-40b0-d088-8e6e0ed5e150"
      },
      "execution_count": 9,
      "outputs": [
        {
          "output_type": "stream",
          "name": "stdout",
          "text": [
            "models/gemini-1.0-pro\n",
            "models/gemini-1.0-pro-001\n",
            "models/gemini-1.0-pro-latest\n",
            "models/gemini-1.0-pro-vision-latest\n",
            "models/gemini-1.5-pro-latest\n",
            "models/gemini-pro\n",
            "models/gemini-pro-vision\n"
          ]
        }
      ]
    },
    {
      "cell_type": "code",
      "source": [
        "model = genai.GenerativeModel(model_name='gemini-1.5-pro-latest')\n"
      ],
      "metadata": {
        "id": "0zkZdS3Nr_Zc"
      },
      "execution_count": 10,
      "outputs": []
    },
    {
      "cell_type": "markdown",
      "source": [
        "Criando variaveis para o prompt de criação"
      ],
      "metadata": {
        "id": "6iDqSeVpLEuA"
      }
    },
    {
      "cell_type": "code",
      "source": [
        "def criar_historia():\n",
        "  \"\"\"\n",
        "  Cria uma historinha infantil com base na entrada do usuário.\n",
        "  \"\"\"\n",
        "\n",
        "  personagens = input(\"Digite os personagens da história, separados por vírgula: \")\n",
        "  cenario = input(\"Digite o cenário da história: \")\n",
        "\n",
        "  personagens = [p.strip() for p in personagens.split(\",\")]\n",
        "\n",
        "  historia = f\"Era uma vez, {cenario}. \"\n",
        "\n",
        "  if len(personagens) == 1:\n",
        "    historia += f\"{personagens[0]} estava \"\n",
        "  else:\n",
        "    for i, personagem in enumerate(personagens):\n",
        "      if i == len(personagens) - 1:\n",
        "        historia += f\"e {personagem} estavam \"\n",
        "      else:\n",
        "        historia += f\"{personagem}, \"\n",
        "\n",
        "  historia += \"se divertindo muito! \"\n",
        "\n",
        "  # Adicionar um elemento surpresa ou aventura\n",
        "  historia += \"De repente, \"\n",
        "  if \"jardim\" in cenario:\n",
        "    historia += \"uma borboleta colorida pousou no nariz de \" + personagens[0] + \"! \"\n",
        "  elif \"nave espacial\" in cenario:\n",
        "    historia += \"a nave começou a sacudir e luzes piscavam por todos os lados! \"\n",
        "  else:\n",
        "    historia += \"algo mágico aconteceu! \"\n",
        "\n",
        "  # Finalizar a história\n",
        "  historia += \"Que aventura incrível! O que será que vai acontecer agora?vamos criar uma historia emocionante com muitas aventuras\"\n",
        "\n",
        "  return historia\n",
        "\n",
        "# Chamar a função para criar a história\n",
        "historia_completa = criar_historia()\n",
        "print(historia_completa)"
      ],
      "metadata": {
        "colab": {
          "base_uri": "https://localhost:8080/"
        },
        "id": "G5zB0ylwJEpw",
        "outputId": "74d1a4f5-d932-4b28-a61e-83a635acc9f2"
      },
      "execution_count": 12,
      "outputs": [
        {
          "output_type": "stream",
          "name": "stdout",
          "text": [
            "Digite os personagens da história, separados por vírgula: urso\n",
            "Digite o cenário da história: montanha\n",
            "Era uma vez, montanha. urso estava se divertindo muito! De repente, algo mágico aconteceu! Que aventura incrível! O que será que vai acontecer agora?vamos criar uma historia emocionante com muitas aventuras\n"
          ]
        }
      ]
    },
    {
      "cell_type": "code",
      "source": [
        "response = model.generate_content(historia_completa)\n",
        "response.text"
      ],
      "metadata": {
        "colab": {
          "base_uri": "https://localhost:8080/",
          "height": 109
        },
        "id": "eNX28BX2sYZR",
        "outputId": "41717731-1ff7-46ca-9e35-24c69a2c53c6"
      },
      "execution_count": 13,
      "outputs": [
        {
          "output_type": "execute_result",
          "data": {
            "text/plain": [
              "'No alto da montanha, coberta de pinheiros imponentes e riachos cristalinos, vivia um urso chamado Bartolomeu. Bartolomeu era um urso brincalhão, adorava rolar nas encostas verdejantes e mergulhar nas águas geladas do rio que descia a montanha. \\n\\nNaquele dia, Bartolomeu estava se divertindo como nunca. Ele perseguia borboletas coloridas, brincava de esconde-esconde com os esquilos e cantava canções engraçadas para os pássaros. De repente, enquanto escalava uma rocha gigante, algo reluziu sob o sol. Era um cristal, que emitia uma luz violeta fascinante! \\n\\nCurioso, Bartolomeu se aproximou e, ao tocá-lo, o cristal explodiu em um turbilhão de luz e cores. Quando a luz se dissipou, Bartolomeu se viu em um lugar completamente diferente! A montanha havia desaparecido, dando lugar a um deserto de areia dourada, com cactos gigantes e um sol escaldante. \\n\\n\"Onde estou?\" - Bartolomeu exclamou, confuso e assustado. \\n\\nNesse momento, uma voz rouca respondeu: \"Bem-vindo ao Deserto Mágico, urso!\" \\n\\nBartolomeu se virou e viu um lagarto azul com escamas brilhantes, sentado sobre uma pedra. \"Eu sou Ziriguidum, o guardião deste deserto. O cristal que você encontrou é um portal mágico, que o trouxe até aqui. Para voltar para casa, você precisa encontrar três pedras sagradas: a Esmeralda da Sabedoria, o Rubi da Coragem e o Topázio da Amizade. Boa sorte, urso!\"\\n\\nE assim começou a aventura de Bartolomeu! Ele enfrentou desafios incríveis, como atravessar um rio de areia movediça, decifrar enigmas de esfinges de pedra e lutar contra escorpiões gigantes. No caminho, ele conheceu personagens fascinantes, como uma fênix falante que o guiou pelo deserto, um bando de suricatos espertos que o ajudaram a encontrar a Esmeralda da Sabedoria e um camelo generoso que o carregou em suas costas pelo deserto escaldante.\\n\\nBartolomeu aprendeu a ser corajoso, a confiar em seus instintos e a importância da amizade. E finalmente, após muitas aventuras, ele encontrou as três pedras sagradas. \\n\\nCom o coração cheio de alegria e saudade de casa, Bartolomeu retornou ao portal mágico. Ao tocá-lo, ele foi transportado de volta para a montanha, com o cristal violeta em suas patas. \\n\\nBartolomeu nunca mais se esqueceu da sua incrível aventura no Deserto Mágico, uma jornada que o ensinou a importância da amizade, da coragem e da sabedoria. Ele guardou o cristal com carinho, como uma lembrança da sua incrível viagem. E, quem sabe, um dia ele voltaria a usar o portal mágico para viver novas aventuras. \\n'"
            ],
            "application/vnd.google.colaboratory.intrinsic+json": {
              "type": "string"
            }
          },
          "metadata": {},
          "execution_count": 13
        }
      ]
    }
  ]
}